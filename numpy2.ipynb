{
 "cells": [
  {
   "cell_type": "code",
   "execution_count": 1,
   "metadata": {
    "collapsed": true
   },
   "outputs": [],
   "source": [
    "import sqlite3\n",
    "\n",
    "import numpy as np\n",
    "\n",
    "# Creating connection to a .sqlite3 db. This will create the file when the script runs for the first time\n",
    "conn = sqlite3.connect('db_big.sqlite3')\n",
    "# Taking the cursor\n",
    "c = conn.cursor()"
   ]
  },
  {
   "cell_type": "code",
   "execution_count": 12,
   "metadata": {
    "collapsed": true
   },
   "outputs": [],
   "source": [
    "c.execute('''select inspection.facility_zip,  violation.points, strftime(\"%Y-%m\",inspection.activity_date) from inspection join  violation on\n",
    "inspection.serial_number = violation.serial_number\n",
    "where inspection.activity_date between date('2015-07-01') and date('2017-12-31')\n",
    "''')\n",
    "\n",
    "data = c.fetchall()"
   ]
  },
  {
   "cell_type": "code",
   "execution_count": 32,
   "metadata": {
    "collapsed": true
   },
   "outputs": [],
   "source": [
    "# Converting to database result to numpy array\n",
    "data = np.asarray(data)"
   ]
  },
  {
   "cell_type": "code",
   "execution_count": 109,
   "metadata": {},
   "outputs": [],
   "source": [
    "#deriving unique post codes in all data\n",
    "all_post_codes = np.unique(data[:,0])\n",
    "\n",
    "all_post_codes_with_violations = np.empty((3005,2), dtype=object)"
   ]
  },
  {
   "cell_type": "code",
   "execution_count": 111,
   "metadata": {},
   "outputs": [],
   "source": [
    "\n",
    "for i in range(len(all_post_codes)):\n",
    "    total_violations = np.sum(data[np.where(data[:,0] == all_post_codes[i])][:,1].astype(np.int32))\n",
    "    \n",
    "    na=np.array([all_post_codes[i], total_violations])\n",
    "    \n",
    "    all_post_codes_with_violations[i] = na\n",
    "    \n",
    "total_violations = all_post_codes_violations[:,1].astype(np.int)\n",
    "sorted_violations = np.sort(total_violations)[-10:]"
   ]
  },
  {
   "cell_type": "code",
   "execution_count": 137,
   "metadata": {},
   "outputs": [],
   "source": [
    "# finding postcodes associated with top violations\n",
    "\n",
    "top_postcodes = []\n",
    "\n",
    "for violation in sorted_violations:\n",
    "    p = all_post_codes_with_violations[np.where(all_post_codes_with_violations[:,1]==str(violation))]\n",
    "    top_postcodes.append(p[0][0])"
   ]
  },
  {
   "cell_type": "code",
   "execution_count": 138,
   "metadata": {},
   "outputs": [
    {
     "data": {
      "text/plain": [
       "['90650',\n",
       " '91776',\n",
       " '90036',\n",
       " '90005',\n",
       " '90045',\n",
       " '90006',\n",
       " '90028',\n",
       " '90020',\n",
       " '90012',\n",
       " '91748']"
      ]
     },
     "execution_count": 138,
     "metadata": {},
     "output_type": "execute_result"
    }
   ],
   "source": [
    "top_postcodes"
   ]
  }
 ],
 "metadata": {
  "kernelspec": {
   "display_name": "Python 3",
   "language": "python",
   "name": "python3"
  },
  "language_info": {
   "codemirror_mode": {
    "name": "ipython",
    "version": 3
   },
   "file_extension": ".py",
   "mimetype": "text/x-python",
   "name": "python",
   "nbconvert_exporter": "python",
   "pygments_lexer": "ipython3",
   "version": "3.6.1"
  }
 },
 "nbformat": 4,
 "nbformat_minor": 2
}
